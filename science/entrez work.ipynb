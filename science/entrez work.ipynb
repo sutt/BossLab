{
 "metadata": {
  "name": "",
  "signature": "sha256:60f06f747f40c5c8fdcf5a530703323a4fd65742268fccc1634a475860cda8d7"
 },
 "nbformat": 3,
 "nbformat_minor": 0,
 "worksheets": [
  {
   "cells": [
    {
     "cell_type": "code",
     "collapsed": false,
     "input": [
      "import pandas, numpy, matplotlib\n",
      "from Bio import Entrez, SeqIO\n"
     ],
     "language": "python",
     "metadata": {},
     "outputs": [],
     "prompt_number": 3
    },
    {
     "cell_type": "code",
     "collapsed": false,
     "input": [
      "Entrez.email = 'wsutton17@gmail.com'"
     ],
     "language": "python",
     "metadata": {},
     "outputs": [],
     "prompt_number": 4
    },
    {
     "cell_type": "code",
     "collapsed": false,
     "input": [
      "incoming = Entrez.einfo()"
     ],
     "language": "python",
     "metadata": {},
     "outputs": [],
     "prompt_number": 6
    },
    {
     "cell_type": "code",
     "collapsed": false,
     "input": [
      "data(incoming)"
     ],
     "language": "python",
     "metadata": {},
     "outputs": [
      {
       "ename": "NameError",
       "evalue": "name 'data' is not defined",
       "output_type": "pyerr",
       "traceback": [
        "\u001b[1;31m---------------------------------------------------------------------------\u001b[0m\n\u001b[1;31mNameError\u001b[0m                                 Traceback (most recent call last)",
        "\u001b[1;32m<ipython-input-8-097f00f83b82>\u001b[0m in \u001b[0;36m<module>\u001b[1;34m()\u001b[0m\n\u001b[1;32m----> 1\u001b[1;33m \u001b[0mdata\u001b[0m\u001b[1;33m(\u001b[0m\u001b[0mincoming\u001b[0m\u001b[1;33m)\u001b[0m\u001b[1;33m\u001b[0m\u001b[0m\n\u001b[0m",
        "\u001b[1;31mNameError\u001b[0m: name 'data' is not defined"
       ]
      }
     ],
     "prompt_number": 8
    },
    {
     "cell_type": "code",
     "collapsed": false,
     "input": [
      "record = Entrez.read(Entrez.einfo())\n",
      "record\n",
      "\n",
      "#>>> 'pubmed' in record['DbList']"
     ],
     "language": "python",
     "metadata": {},
     "outputs": [
      {
       "output_type": "stream",
       "stream": "stderr",
       "text": [
        "C:\\Anaconda\\lib\\site-packages\\Bio\\Entrez\\Parser.py:525: UserWarning: Unable to load DTD file einfo.dtd.\n",
        "\n",
        "Bio.Entrez uses NCBI's DTD files to parse XML files returned by NCBI Entrez.\n",
        "Though most of NCBI's DTD files are included in the Biopython distribution,\n",
        "sometimes you may find that a particular DTD file is missing. While we can\n",
        "access the DTD file through the internet, the parser is much faster if the\n",
        "required DTD files are available locally.\n",
        "\n",
        "For this purpose, please download einfo.dtd from\n",
        "\n",
        "http://eutils.ncbi.nlm.nih.gov/eutils/dtd/20130322/einfo.dtd\n",
        "\n",
        "and save it either in directory\n",
        "\n",
        "C:\\Anaconda\\lib\\site-packages\\Bio\\Entrez\\DTDs\n",
        "\n",
        "or in directory\n",
        "\n",
        "C:\\Users\\wsutt_000\\.biopython\\Bio\\Entrez\\DTDs\n",
        "\n",
        "in order for Bio.Entrez to find it.\n",
        "\n",
        "Alternatively, you can save einfo.dtd in the directory\n",
        "Bio/Entrez/DTDs in the Biopython distribution, and reinstall Biopython.\n",
        "\n",
        "Please also inform the Biopython developers about this missing DTD, by\n",
        "reporting a bug on https://github.com/biopython/biopython/issues or sign\n",
        "up to our mailing list and emailing us, so that we can include it with the\n",
        "next release of Biopython.\n",
        "\n",
        "Proceeding to access the DTD file through the internet...\n",
        "\n",
        "  warnings.warn(message)\n"
       ]
      },
      {
       "metadata": {},
       "output_type": "pyout",
       "prompt_number": 9,
       "text": [
        "{u'DbList': ['pubmed', 'protein', 'nuccore', 'nucleotide', 'nucgss', 'nucest', 'structure', 'genome', 'assembly', 'genomeprj', 'bioproject', 'biosample', 'blastdbinfo', 'books', 'cdd', 'clinvar', 'clone', 'gap', 'gapplus', 'dbvar', 'epigenomics', 'gene', 'gds', 'geoprofiles', 'homologene', 'medgen', 'journals', 'mesh', 'ncbisearch', 'nlmcatalog', 'omim', 'orgtrack', 'pmc', 'popset', 'probe', 'proteinclusters', 'pcassay', 'biosystems', 'pccompound', 'pcsubstance', 'pubmedhealth', 'seqannot', 'snp', 'sra', 'taxonomy', 'toolkit', 'toolkitall', 'toolkitbook', 'unigene', 'gencoll', 'gtr']}"
       ]
      }
     ],
     "prompt_number": 9
    },
    {
     "cell_type": "code",
     "collapsed": false,
     "input": [
      "#Entrez.efetch('genome',)\n",
      "? Entrez\n"
     ],
     "language": "python",
     "metadata": {},
     "outputs": [],
     "prompt_number": 10
    },
    {
     "cell_type": "markdown",
     "metadata": {},
     "source": [
      "<h1> Nostoc </h1>\n",
      "http://www.ncbi.nlm.nih.gov/genome/1050 <br>\n",
      "http://www.ncbi.nlm.nih.gov/nuccore/NC_010628.1 <br>\n",
      "NC_010628\n",
      "http://www.ncbi.nlm.nih.gov/nuccore/186680550 <br>\n",
      "here it is http://www.ncbi.nlm.nih.gov/nuccore/BA000019.2\n",
      "\n",
      "<h1> Entrez Tut </h1>\n",
      "http://www.ncbi.nlm.nih.gov/Class/MLACourse/Original8Hour/Entrez/index.html <br>\n",
      "http://biopython.org/DIST/docs/tutorial/Tutorial.html\n",
      "\n"
     ]
    },
    {
     "cell_type": "code",
     "collapsed": false,
     "input": [
      "Entrez.efetch('gene' id=)\n"
     ],
     "language": "python",
     "metadata": {},
     "outputs": []
    }
   ],
   "metadata": {}
  }
 ]
}