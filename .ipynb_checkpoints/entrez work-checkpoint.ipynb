{
 "metadata": {
  "name": "",
  "signature": "sha256:8d5c5e7114baf2d06f828759c603d101419510646276fa2460976541deea611b"
 },
 "nbformat": 3,
 "nbformat_minor": 0,
 "worksheets": []
}